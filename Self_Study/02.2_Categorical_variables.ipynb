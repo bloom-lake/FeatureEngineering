{
 "cells": [
  {
   "cell_type": "code",
   "execution_count": 6,
   "id": "d36f2896",
   "metadata": {},
   "outputs": [],
   "source": [
    "import pandas as pd\n",
    "\n",
    "import matplotlib.pyplot as plt\n",
    "%matplotlib inline\n",
    "data = pd.read_csv('../datasets/loan.csv').sample(10000, random_state=44)"
   ]
  },
  {
   "cell_type": "code",
   "execution_count": 7,
   "id": "93d02c68",
   "metadata": {},
   "outputs": [
    {
     "data": {
      "text/html": [
       "<div>\n",
       "<style scoped>\n",
       "    .dataframe tbody tr th:only-of-type {\n",
       "        vertical-align: middle;\n",
       "    }\n",
       "\n",
       "    .dataframe tbody tr th {\n",
       "        vertical-align: top;\n",
       "    }\n",
       "\n",
       "    .dataframe thead th {\n",
       "        text-align: right;\n",
       "    }\n",
       "</style>\n",
       "<table border=\"1\" class=\"dataframe\">\n",
       "  <thead>\n",
       "    <tr style=\"text-align: right;\">\n",
       "      <th></th>\n",
       "      <th>customer_id</th>\n",
       "      <th>disbursed_amount</th>\n",
       "      <th>interest</th>\n",
       "      <th>market</th>\n",
       "      <th>employment</th>\n",
       "      <th>time_employed</th>\n",
       "      <th>householder</th>\n",
       "      <th>income</th>\n",
       "      <th>date_issued</th>\n",
       "      <th>target</th>\n",
       "      <th>loan_purpose</th>\n",
       "      <th>number_open_accounts</th>\n",
       "      <th>date_last_payment</th>\n",
       "      <th>number_credit_lines_12</th>\n",
       "    </tr>\n",
       "  </thead>\n",
       "  <tbody>\n",
       "    <tr>\n",
       "      <th>3472</th>\n",
       "      <td>3472</td>\n",
       "      <td>13925.0</td>\n",
       "      <td>14.0434</td>\n",
       "      <td>C</td>\n",
       "      <td>Teacher</td>\n",
       "      <td>&lt;=5 years</td>\n",
       "      <td>RENT</td>\n",
       "      <td>54320.0</td>\n",
       "      <td>2012-07-08</td>\n",
       "      <td>0</td>\n",
       "      <td>Debt consolidation</td>\n",
       "      <td>23.0</td>\n",
       "      <td>2015-07-25</td>\n",
       "      <td>NaN</td>\n",
       "    </tr>\n",
       "    <tr>\n",
       "      <th>5095</th>\n",
       "      <td>5095</td>\n",
       "      <td>10000.0</td>\n",
       "      <td>5.5476</td>\n",
       "      <td>A</td>\n",
       "      <td>Dentist</td>\n",
       "      <td>&lt;=5 years</td>\n",
       "      <td>MORTGAGE</td>\n",
       "      <td>46550.0</td>\n",
       "      <td>2013-03-04</td>\n",
       "      <td>0</td>\n",
       "      <td>Debt consolidation</td>\n",
       "      <td>5.0</td>\n",
       "      <td>2015-12-18</td>\n",
       "      <td>NaN</td>\n",
       "    </tr>\n",
       "    <tr>\n",
       "      <th>9504</th>\n",
       "      <td>9504</td>\n",
       "      <td>2790.0</td>\n",
       "      <td>14.8401</td>\n",
       "      <td>C</td>\n",
       "      <td>Taxi driver</td>\n",
       "      <td>&gt;5 years</td>\n",
       "      <td>MORTGAGE</td>\n",
       "      <td>33633.6</td>\n",
       "      <td>2015-01-06</td>\n",
       "      <td>0</td>\n",
       "      <td>Other</td>\n",
       "      <td>9.0</td>\n",
       "      <td>2016-01-04</td>\n",
       "      <td>NaN</td>\n",
       "    </tr>\n",
       "    <tr>\n",
       "      <th>5786</th>\n",
       "      <td>5786</td>\n",
       "      <td>15216.0</td>\n",
       "      <td>17.1488</td>\n",
       "      <td>E</td>\n",
       "      <td>Bus driver</td>\n",
       "      <td>&lt;=5 years</td>\n",
       "      <td>MORTGAGE</td>\n",
       "      <td>41710.0</td>\n",
       "      <td>2011-10-25</td>\n",
       "      <td>0</td>\n",
       "      <td>Other</td>\n",
       "      <td>11.0</td>\n",
       "      <td>2016-01-22</td>\n",
       "      <td>NaN</td>\n",
       "    </tr>\n",
       "    <tr>\n",
       "      <th>8758</th>\n",
       "      <td>8758</td>\n",
       "      <td>8190.0</td>\n",
       "      <td>11.8209</td>\n",
       "      <td>C</td>\n",
       "      <td>Dentist</td>\n",
       "      <td>&lt;=5 years</td>\n",
       "      <td>RENT</td>\n",
       "      <td>48484.0</td>\n",
       "      <td>2014-10-04</td>\n",
       "      <td>0</td>\n",
       "      <td>Debt consolidation</td>\n",
       "      <td>12.0</td>\n",
       "      <td>2016-01-05</td>\n",
       "      <td>NaN</td>\n",
       "    </tr>\n",
       "  </tbody>\n",
       "</table>\n",
       "</div>"
      ],
      "text/plain": [
       "      customer_id  disbursed_amount  interest market   employment  \\\n",
       "3472         3472           13925.0   14.0434      C      Teacher   \n",
       "5095         5095           10000.0    5.5476      A      Dentist   \n",
       "9504         9504            2790.0   14.8401      C  Taxi driver   \n",
       "5786         5786           15216.0   17.1488      E   Bus driver   \n",
       "8758         8758            8190.0   11.8209      C      Dentist   \n",
       "\n",
       "     time_employed householder   income date_issued  target  \\\n",
       "3472     <=5 years        RENT  54320.0  2012-07-08       0   \n",
       "5095     <=5 years    MORTGAGE  46550.0  2013-03-04       0   \n",
       "9504      >5 years    MORTGAGE  33633.6  2015-01-06       0   \n",
       "5786     <=5 years    MORTGAGE  41710.0  2011-10-25       0   \n",
       "8758     <=5 years        RENT  48484.0  2014-10-04       0   \n",
       "\n",
       "            loan_purpose  number_open_accounts date_last_payment  \\\n",
       "3472  Debt consolidation                  23.0        2015-07-25   \n",
       "5095  Debt consolidation                   5.0        2015-12-18   \n",
       "9504               Other                   9.0        2016-01-04   \n",
       "5786               Other                  11.0        2016-01-22   \n",
       "8758  Debt consolidation                  12.0        2016-01-05   \n",
       "\n",
       "      number_credit_lines_12  \n",
       "3472                     NaN  \n",
       "5095                     NaN  \n",
       "9504                     NaN  \n",
       "5786                     NaN  \n",
       "8758                     NaN  "
      ]
     },
     "execution_count": 7,
     "metadata": {},
     "output_type": "execute_result"
    }
   ],
   "source": [
    "data.head()"
   ]
  },
  {
   "cell_type": "code",
   "execution_count": 11,
   "id": "93d8901e",
   "metadata": {},
   "outputs": [
    {
     "data": {
      "text/plain": [
       "array(['RENT', 'MORTGAGE', 'OWNER'], dtype=object)"
      ]
     },
     "execution_count": 11,
     "metadata": {},
     "output_type": "execute_result"
    }
   ],
   "source": [
    "data.householder.unique()"
   ]
  },
  {
   "cell_type": "code",
   "execution_count": 19,
   "id": "d848b21c",
   "metadata": {},
   "outputs": [
    {
     "data": {
      "text/plain": [
       "Text(0, 0.5, 'Number of customers')"
      ]
     },
     "execution_count": 19,
     "metadata": {},
     "output_type": "execute_result"
    },
    {
     "data": {
      "image/png": "[encoded data removed]",
      "text/plain": [
       "<Figure size 640x480 with 1 Axes>"
      ]
     },
     "metadata": {},
     "output_type": "display_data"
    }
   ],
   "source": [
    "fig = data.householder.value_counts().plot.bar()\n",
    "fig.set_title(\"Home Ownership\")\n",
    "fig.set_ylabel(\"Number of customers\")"
   ]
  },
  {
   "cell_type": "code",
   "execution_count": 20,
   "id": "eea06dba",
   "metadata": {},
   "outputs": [
    {
     "data": {
      "text/plain": [
       "MORTGAGE    4957\n",
       "RENT        4055\n",
       "OWNER        988\n",
       "Name: householder, dtype: int64"
      ]
     },
     "execution_count": 20,
     "metadata": {},
     "output_type": "execute_result"
    }
   ],
   "source": [
    "data.householder.value_counts()"
   ]
  },
  {
   "cell_type": "code",
   "execution_count": 23,
   "id": "785dc64c",
   "metadata": {},
   "outputs": [
    {
     "data": {
      "text/plain": [
       "<AxesSubplot: >"
      ]
     },
     "execution_count": 23,
     "metadata": {},
     "output_type": "execute_result"
    },
    {
     "data": {
      "image/png": "[encoded data removed]",
      "text/plain": [
       "<Figure size 640x480 with 1 Axes>"
      ]
     },
     "metadata": {},
     "output_type": "display_data"
    }
   ],
   "source": [
    "data.loan_purpose.value_counts().plot.bar()"
   ]
  },
  {
   "cell_type": "code",
   "execution_count": 27,
   "id": "d51b9e05",
   "metadata": {},
   "outputs": [
    {
     "data": {
      "text/plain": [
       "3472    3472\n",
       "5095    5095\n",
       "9504    9504\n",
       "5786    5786\n",
       "8758    8758\n",
       "Name: customer_id, dtype: int64"
      ]
     },
     "execution_count": 27,
     "metadata": {},
     "output_type": "execute_result"
    }
   ],
   "source": [
    "data['customer_id'].head()"
   ]
  },
  {
   "cell_type": "code",
   "execution_count": 28,
   "id": "020402d8",
   "metadata": {},
   "outputs": [
    {
     "data": {
      "text/plain": [
       "10000"
      ]
     },
     "execution_count": 28,
     "metadata": {},
     "output_type": "execute_result"
    }
   ],
   "source": [
    "len(data['customer_id'])"
   ]
  },
  {
   "cell_type": "code",
   "execution_count": null,
   "id": "ce4907b9",
   "metadata": {},
   "outputs": [],
   "source": []
  },
  {
   "cell_type": "code",
   "execution_count": null,
   "id": "ad74ca5c",
   "metadata": {},
   "outputs": [],
   "source": []
  },
  {
   "cell_type": "code",
   "execution_count": null,
   "id": "1982a845",
   "metadata": {},
   "outputs": [],
   "source": []
  }
 ],
 "metadata": {
  "kernelspec": {
   "display_name": "Python 3 (ipykernel)",
   "language": "python",
   "name": "python3"
  },
  "language_info": {
   "codemirror_mode": {
    "name": "ipython",
    "version": 3
   },
   "file_extension": ".py",
   "mimetype": "text/x-python",
   "name": "python",
   "nbconvert_exporter": "python",
   "pygments_lexer": "ipython3",
   "version": "3.9.2"
  }
 },
 "nbformat": 4,
 "nbformat_minor": 5
}
