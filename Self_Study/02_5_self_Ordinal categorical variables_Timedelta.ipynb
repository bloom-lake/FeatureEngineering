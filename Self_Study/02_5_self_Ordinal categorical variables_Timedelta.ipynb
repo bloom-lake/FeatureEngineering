{
 "cells": [
  {
   "cell_type": "markdown",
   "id": "c3be515f",
   "metadata": {},
   "source": [
    "## Ordinal numbering encoding\n",
    "### Ordinal categorical variables\n",
    "\n",
    "Categorical variable which categories can be meaningfully ordered are called ordinal. For example:\n",
    "\n",
    "- Student's grade in an exam (A, B, C or Fail).\n",
    "- Days of the week can be ordinal with Monday = 1, and Sunday = 7.\n",
    "- Educational level, with the categories: Elementary school, High school, College graduate, PhD ranked from 1 to 4.\n",
    "When the categorical variable is ordinal, the most straightforward approach is to replace the labels by some ordinal number.\n",
    "\n",
    "##  Advantages\n",
    "- Keeps the semantical information of the variable (human readable content)\n",
    "- Straightforward\n",
    "\n",
    "## Disadvantage\n",
    "Does not add machine learning valuable information\n",
    "I will simulate some data below to demonstrate this exercise"
   ]
  },
  {
   "cell_type": "code",
   "execution_count": 4,
   "id": "735538c2",
   "metadata": {},
   "outputs": [],
   "source": [
    "import pandas as pd\n",
    "import datetime as dt"
   ]
  },
  {
   "cell_type": "code",
   "execution_count": 6,
   "id": "0af31482",
   "metadata": {},
   "outputs": [
    {
     "data": {
      "text/plain": [
       "datetime.date(2023, 1, 1)"
      ]
     },
     "execution_count": 6,
     "metadata": {},
     "output_type": "execute_result"
    }
   ],
   "source": [
    "current_data = dt.date.today()\n",
    "current_data"
   ]
  },
  {
   "cell_type": "code",
   "execution_count": 92,
   "id": "3f55ec5c",
   "metadata": {},
   "outputs": [
    {
     "data": {
      "text/html": [
       "<div>\n",
       "<style scoped>\n",
       "    .dataframe tbody tr th:only-of-type {\n",
       "        vertical-align: middle;\n",
       "    }\n",
       "\n",
       "    .dataframe tbody tr th {\n",
       "        vertical-align: top;\n",
       "    }\n",
       "\n",
       "    .dataframe thead th {\n",
       "        text-align: right;\n",
       "    }\n",
       "</style>\n",
       "<table border=\"1\" class=\"dataframe\">\n",
       "  <thead>\n",
       "    <tr style=\"text-align: right;\">\n",
       "      <th></th>\n",
       "      <th>day</th>\n",
       "    </tr>\n",
       "  </thead>\n",
       "  <tbody>\n",
       "    <tr>\n",
       "      <th>0</th>\n",
       "      <td>2023-01-01 23:28:26.411140</td>\n",
       "    </tr>\n",
       "    <tr>\n",
       "      <th>1</th>\n",
       "      <td>2022-12-31 23:28:26.411140</td>\n",
       "    </tr>\n",
       "    <tr>\n",
       "      <th>2</th>\n",
       "      <td>2022-12-30 23:28:26.411140</td>\n",
       "    </tr>\n",
       "    <tr>\n",
       "      <th>3</th>\n",
       "      <td>2022-12-29 23:28:26.411140</td>\n",
       "    </tr>\n",
       "    <tr>\n",
       "      <th>4</th>\n",
       "      <td>2022-12-28 23:28:26.411140</td>\n",
       "    </tr>\n",
       "    <tr>\n",
       "      <th>5</th>\n",
       "      <td>2022-12-27 23:28:26.411140</td>\n",
       "    </tr>\n",
       "    <tr>\n",
       "      <th>6</th>\n",
       "      <td>2022-12-26 23:28:26.411140</td>\n",
       "    </tr>\n",
       "    <tr>\n",
       "      <th>7</th>\n",
       "      <td>2022-12-25 23:28:26.411140</td>\n",
       "    </tr>\n",
       "    <tr>\n",
       "      <th>8</th>\n",
       "      <td>2022-12-24 23:28:26.411140</td>\n",
       "    </tr>\n",
       "    <tr>\n",
       "      <th>9</th>\n",
       "      <td>2022-12-23 23:28:26.411140</td>\n",
       "    </tr>\n",
       "    <tr>\n",
       "      <th>10</th>\n",
       "      <td>2022-12-22 23:28:26.411140</td>\n",
       "    </tr>\n",
       "    <tr>\n",
       "      <th>11</th>\n",
       "      <td>2022-12-21 23:28:26.411140</td>\n",
       "    </tr>\n",
       "    <tr>\n",
       "      <th>12</th>\n",
       "      <td>2022-12-20 23:28:26.411140</td>\n",
       "    </tr>\n",
       "    <tr>\n",
       "      <th>13</th>\n",
       "      <td>2022-12-19 23:28:26.411140</td>\n",
       "    </tr>\n",
       "    <tr>\n",
       "      <th>14</th>\n",
       "      <td>2022-12-18 23:28:26.411140</td>\n",
       "    </tr>\n",
       "    <tr>\n",
       "      <th>15</th>\n",
       "      <td>2022-12-17 23:28:26.411140</td>\n",
       "    </tr>\n",
       "    <tr>\n",
       "      <th>16</th>\n",
       "      <td>2022-12-16 23:28:26.411140</td>\n",
       "    </tr>\n",
       "    <tr>\n",
       "      <th>17</th>\n",
       "      <td>2022-12-15 23:28:26.411140</td>\n",
       "    </tr>\n",
       "    <tr>\n",
       "      <th>18</th>\n",
       "      <td>2022-12-14 23:28:26.411140</td>\n",
       "    </tr>\n",
       "    <tr>\n",
       "      <th>19</th>\n",
       "      <td>2022-12-13 23:28:26.411140</td>\n",
       "    </tr>\n",
       "    <tr>\n",
       "      <th>20</th>\n",
       "      <td>2022-12-12 23:28:26.411140</td>\n",
       "    </tr>\n",
       "    <tr>\n",
       "      <th>21</th>\n",
       "      <td>2022-12-11 23:28:26.411140</td>\n",
       "    </tr>\n",
       "    <tr>\n",
       "      <th>22</th>\n",
       "      <td>2022-12-10 23:28:26.411140</td>\n",
       "    </tr>\n",
       "    <tr>\n",
       "      <th>23</th>\n",
       "      <td>2022-12-09 23:28:26.411140</td>\n",
       "    </tr>\n",
       "    <tr>\n",
       "      <th>24</th>\n",
       "      <td>2022-12-08 23:28:26.411140</td>\n",
       "    </tr>\n",
       "    <tr>\n",
       "      <th>25</th>\n",
       "      <td>2022-12-07 23:28:26.411140</td>\n",
       "    </tr>\n",
       "    <tr>\n",
       "      <th>26</th>\n",
       "      <td>2022-12-06 23:28:26.411140</td>\n",
       "    </tr>\n",
       "    <tr>\n",
       "      <th>27</th>\n",
       "      <td>2022-12-05 23:28:26.411140</td>\n",
       "    </tr>\n",
       "    <tr>\n",
       "      <th>28</th>\n",
       "      <td>2022-12-04 23:28:26.411140</td>\n",
       "    </tr>\n",
       "    <tr>\n",
       "      <th>29</th>\n",
       "      <td>2022-12-03 23:28:26.411140</td>\n",
       "    </tr>\n",
       "  </tbody>\n",
       "</table>\n",
       "</div>"
      ],
      "text/plain": [
       "                          day\n",
       "0  2023-01-01 23:28:26.411140\n",
       "1  2022-12-31 23:28:26.411140\n",
       "2  2022-12-30 23:28:26.411140\n",
       "3  2022-12-29 23:28:26.411140\n",
       "4  2022-12-28 23:28:26.411140\n",
       "5  2022-12-27 23:28:26.411140\n",
       "6  2022-12-26 23:28:26.411140\n",
       "7  2022-12-25 23:28:26.411140\n",
       "8  2022-12-24 23:28:26.411140\n",
       "9  2022-12-23 23:28:26.411140\n",
       "10 2022-12-22 23:28:26.411140\n",
       "11 2022-12-21 23:28:26.411140\n",
       "12 2022-12-20 23:28:26.411140\n",
       "13 2022-12-19 23:28:26.411140\n",
       "14 2022-12-18 23:28:26.411140\n",
       "15 2022-12-17 23:28:26.411140\n",
       "16 2022-12-16 23:28:26.411140\n",
       "17 2022-12-15 23:28:26.411140\n",
       "18 2022-12-14 23:28:26.411140\n",
       "19 2022-12-13 23:28:26.411140\n",
       "20 2022-12-12 23:28:26.411140\n",
       "21 2022-12-11 23:28:26.411140\n",
       "22 2022-12-10 23:28:26.411140\n",
       "23 2022-12-09 23:28:26.411140\n",
       "24 2022-12-08 23:28:26.411140\n",
       "25 2022-12-07 23:28:26.411140\n",
       "26 2022-12-06 23:28:26.411140\n",
       "27 2022-12-05 23:28:26.411140\n",
       "28 2022-12-04 23:28:26.411140\n",
       "29 2022-12-03 23:28:26.411140"
      ]
     },
     "execution_count": 92,
     "metadata": {},
     "output_type": "execute_result"
    }
   ],
   "source": [
    "base = datetime.datetime.today()\n",
    "date_list = [base-datetime.timedelta(days=x) for x in range(0, 30)]\n",
    "df = pd.DataFrame(date_list)\n",
    "df.columns = ['day']\n",
    "df"
   ]
  },
  {
   "cell_type": "code",
   "execution_count": 99,
   "id": "d65bdda4",
   "metadata": {},
   "outputs": [
    {
     "data": {
      "text/html": [
       "<div>\n",
       "<style scoped>\n",
       "    .dataframe tbody tr th:only-of-type {\n",
       "        vertical-align: middle;\n",
       "    }\n",
       "\n",
       "    .dataframe tbody tr th {\n",
       "        vertical-align: top;\n",
       "    }\n",
       "\n",
       "    .dataframe thead th {\n",
       "        text-align: right;\n",
       "    }\n",
       "</style>\n",
       "<table border=\"1\" class=\"dataframe\">\n",
       "  <thead>\n",
       "    <tr style=\"text-align: right;\">\n",
       "      <th></th>\n",
       "      <th>day</th>\n",
       "      <th>day_of_week</th>\n",
       "    </tr>\n",
       "  </thead>\n",
       "  <tbody>\n",
       "    <tr>\n",
       "      <th>0</th>\n",
       "      <td>2023-01-01 23:28:26.411140</td>\n",
       "      <td>Sunday</td>\n",
       "    </tr>\n",
       "    <tr>\n",
       "      <th>1</th>\n",
       "      <td>2022-12-31 23:28:26.411140</td>\n",
       "      <td>Saturday</td>\n",
       "    </tr>\n",
       "    <tr>\n",
       "      <th>2</th>\n",
       "      <td>2022-12-30 23:28:26.411140</td>\n",
       "      <td>Friday</td>\n",
       "    </tr>\n",
       "    <tr>\n",
       "      <th>3</th>\n",
       "      <td>2022-12-29 23:28:26.411140</td>\n",
       "      <td>Thursday</td>\n",
       "    </tr>\n",
       "    <tr>\n",
       "      <th>4</th>\n",
       "      <td>2022-12-28 23:28:26.411140</td>\n",
       "      <td>Wednesday</td>\n",
       "    </tr>\n",
       "    <tr>\n",
       "      <th>5</th>\n",
       "      <td>2022-12-27 23:28:26.411140</td>\n",
       "      <td>Tuesday</td>\n",
       "    </tr>\n",
       "    <tr>\n",
       "      <th>6</th>\n",
       "      <td>2022-12-26 23:28:26.411140</td>\n",
       "      <td>Monday</td>\n",
       "    </tr>\n",
       "    <tr>\n",
       "      <th>7</th>\n",
       "      <td>2022-12-25 23:28:26.411140</td>\n",
       "      <td>Sunday</td>\n",
       "    </tr>\n",
       "    <tr>\n",
       "      <th>8</th>\n",
       "      <td>2022-12-24 23:28:26.411140</td>\n",
       "      <td>Saturday</td>\n",
       "    </tr>\n",
       "    <tr>\n",
       "      <th>9</th>\n",
       "      <td>2022-12-23 23:28:26.411140</td>\n",
       "      <td>Friday</td>\n",
       "    </tr>\n",
       "    <tr>\n",
       "      <th>10</th>\n",
       "      <td>2022-12-22 23:28:26.411140</td>\n",
       "      <td>Thursday</td>\n",
       "    </tr>\n",
       "    <tr>\n",
       "      <th>11</th>\n",
       "      <td>2022-12-21 23:28:26.411140</td>\n",
       "      <td>Wednesday</td>\n",
       "    </tr>\n",
       "    <tr>\n",
       "      <th>12</th>\n",
       "      <td>2022-12-20 23:28:26.411140</td>\n",
       "      <td>Tuesday</td>\n",
       "    </tr>\n",
       "    <tr>\n",
       "      <th>13</th>\n",
       "      <td>2022-12-19 23:28:26.411140</td>\n",
       "      <td>Monday</td>\n",
       "    </tr>\n",
       "    <tr>\n",
       "      <th>14</th>\n",
       "      <td>2022-12-18 23:28:26.411140</td>\n",
       "      <td>Sunday</td>\n",
       "    </tr>\n",
       "    <tr>\n",
       "      <th>15</th>\n",
       "      <td>2022-12-17 23:28:26.411140</td>\n",
       "      <td>Saturday</td>\n",
       "    </tr>\n",
       "    <tr>\n",
       "      <th>16</th>\n",
       "      <td>2022-12-16 23:28:26.411140</td>\n",
       "      <td>Friday</td>\n",
       "    </tr>\n",
       "    <tr>\n",
       "      <th>17</th>\n",
       "      <td>2022-12-15 23:28:26.411140</td>\n",
       "      <td>Thursday</td>\n",
       "    </tr>\n",
       "    <tr>\n",
       "      <th>18</th>\n",
       "      <td>2022-12-14 23:28:26.411140</td>\n",
       "      <td>Wednesday</td>\n",
       "    </tr>\n",
       "    <tr>\n",
       "      <th>19</th>\n",
       "      <td>2022-12-13 23:28:26.411140</td>\n",
       "      <td>Tuesday</td>\n",
       "    </tr>\n",
       "    <tr>\n",
       "      <th>20</th>\n",
       "      <td>2022-12-12 23:28:26.411140</td>\n",
       "      <td>Monday</td>\n",
       "    </tr>\n",
       "    <tr>\n",
       "      <th>21</th>\n",
       "      <td>2022-12-11 23:28:26.411140</td>\n",
       "      <td>Sunday</td>\n",
       "    </tr>\n",
       "    <tr>\n",
       "      <th>22</th>\n",
       "      <td>2022-12-10 23:28:26.411140</td>\n",
       "      <td>Saturday</td>\n",
       "    </tr>\n",
       "    <tr>\n",
       "      <th>23</th>\n",
       "      <td>2022-12-09 23:28:26.411140</td>\n",
       "      <td>Friday</td>\n",
       "    </tr>\n",
       "    <tr>\n",
       "      <th>24</th>\n",
       "      <td>2022-12-08 23:28:26.411140</td>\n",
       "      <td>Thursday</td>\n",
       "    </tr>\n",
       "    <tr>\n",
       "      <th>25</th>\n",
       "      <td>2022-12-07 23:28:26.411140</td>\n",
       "      <td>Wednesday</td>\n",
       "    </tr>\n",
       "    <tr>\n",
       "      <th>26</th>\n",
       "      <td>2022-12-06 23:28:26.411140</td>\n",
       "      <td>Tuesday</td>\n",
       "    </tr>\n",
       "    <tr>\n",
       "      <th>27</th>\n",
       "      <td>2022-12-05 23:28:26.411140</td>\n",
       "      <td>Monday</td>\n",
       "    </tr>\n",
       "    <tr>\n",
       "      <th>28</th>\n",
       "      <td>2022-12-04 23:28:26.411140</td>\n",
       "      <td>Sunday</td>\n",
       "    </tr>\n",
       "    <tr>\n",
       "      <th>29</th>\n",
       "      <td>2022-12-03 23:28:26.411140</td>\n",
       "      <td>Saturday</td>\n",
       "    </tr>\n",
       "  </tbody>\n",
       "</table>\n",
       "</div>"
      ],
      "text/plain": [
       "                          day day_of_week\n",
       "0  2023-01-01 23:28:26.411140      Sunday\n",
       "1  2022-12-31 23:28:26.411140    Saturday\n",
       "2  2022-12-30 23:28:26.411140      Friday\n",
       "3  2022-12-29 23:28:26.411140    Thursday\n",
       "4  2022-12-28 23:28:26.411140   Wednesday\n",
       "5  2022-12-27 23:28:26.411140     Tuesday\n",
       "6  2022-12-26 23:28:26.411140      Monday\n",
       "7  2022-12-25 23:28:26.411140      Sunday\n",
       "8  2022-12-24 23:28:26.411140    Saturday\n",
       "9  2022-12-23 23:28:26.411140      Friday\n",
       "10 2022-12-22 23:28:26.411140    Thursday\n",
       "11 2022-12-21 23:28:26.411140   Wednesday\n",
       "12 2022-12-20 23:28:26.411140     Tuesday\n",
       "13 2022-12-19 23:28:26.411140      Monday\n",
       "14 2022-12-18 23:28:26.411140      Sunday\n",
       "15 2022-12-17 23:28:26.411140    Saturday\n",
       "16 2022-12-16 23:28:26.411140      Friday\n",
       "17 2022-12-15 23:28:26.411140    Thursday\n",
       "18 2022-12-14 23:28:26.411140   Wednesday\n",
       "19 2022-12-13 23:28:26.411140     Tuesday\n",
       "20 2022-12-12 23:28:26.411140      Monday\n",
       "21 2022-12-11 23:28:26.411140      Sunday\n",
       "22 2022-12-10 23:28:26.411140    Saturday\n",
       "23 2022-12-09 23:28:26.411140      Friday\n",
       "24 2022-12-08 23:28:26.411140    Thursday\n",
       "25 2022-12-07 23:28:26.411140   Wednesday\n",
       "26 2022-12-06 23:28:26.411140     Tuesday\n",
       "27 2022-12-05 23:28:26.411140      Monday\n",
       "28 2022-12-04 23:28:26.411140      Sunday\n",
       "29 2022-12-03 23:28:26.411140    Saturday"
      ]
     },
     "execution_count": 99,
     "metadata": {},
     "output_type": "execute_result"
    }
   ],
   "source": [
    "# extract the week day name\n",
    "\n",
    "df['day_of_week'] = df['day'].dt.day_name()\n",
    "df"
   ]
  },
  {
   "cell_type": "code",
   "execution_count": 101,
   "id": "29104c6c",
   "metadata": {},
   "outputs": [
    {
     "data": {
      "text/html": [
       "<div>\n",
       "<style scoped>\n",
       "    .dataframe tbody tr th:only-of-type {\n",
       "        vertical-align: middle;\n",
       "    }\n",
       "\n",
       "    .dataframe tbody tr th {\n",
       "        vertical-align: top;\n",
       "    }\n",
       "\n",
       "    .dataframe thead th {\n",
       "        text-align: right;\n",
       "    }\n",
       "</style>\n",
       "<table border=\"1\" class=\"dataframe\">\n",
       "  <thead>\n",
       "    <tr style=\"text-align: right;\">\n",
       "      <th></th>\n",
       "      <th>day</th>\n",
       "      <th>day_of_week</th>\n",
       "      <th>day_ordinal</th>\n",
       "    </tr>\n",
       "  </thead>\n",
       "  <tbody>\n",
       "    <tr>\n",
       "      <th>0</th>\n",
       "      <td>2023-01-01 23:28:26.411140</td>\n",
       "      <td>Sunday</td>\n",
       "      <td>7</td>\n",
       "    </tr>\n",
       "    <tr>\n",
       "      <th>1</th>\n",
       "      <td>2022-12-31 23:28:26.411140</td>\n",
       "      <td>Saturday</td>\n",
       "      <td>6</td>\n",
       "    </tr>\n",
       "    <tr>\n",
       "      <th>2</th>\n",
       "      <td>2022-12-30 23:28:26.411140</td>\n",
       "      <td>Friday</td>\n",
       "      <td>5</td>\n",
       "    </tr>\n",
       "    <tr>\n",
       "      <th>3</th>\n",
       "      <td>2022-12-29 23:28:26.411140</td>\n",
       "      <td>Thursday</td>\n",
       "      <td>4</td>\n",
       "    </tr>\n",
       "    <tr>\n",
       "      <th>4</th>\n",
       "      <td>2022-12-28 23:28:26.411140</td>\n",
       "      <td>Wednesday</td>\n",
       "      <td>3</td>\n",
       "    </tr>\n",
       "  </tbody>\n",
       "</table>\n",
       "</div>"
      ],
      "text/plain": [
       "                         day day_of_week  day_ordinal\n",
       "0 2023-01-01 23:28:26.411140      Sunday            7\n",
       "1 2022-12-31 23:28:26.411140    Saturday            6\n",
       "2 2022-12-30 23:28:26.411140      Friday            5\n",
       "3 2022-12-29 23:28:26.411140    Thursday            4\n",
       "4 2022-12-28 23:28:26.411140   Wednesday            3"
      ]
     },
     "execution_count": 101,
     "metadata": {},
     "output_type": "execute_result"
    }
   ],
   "source": [
    "# Engineer Categorical Variable by ordinal  number replacement\n",
    "\n",
    "weekday_map = {\n",
    "    'Monday': 1,\n",
    "    'Tuesday': 2,\n",
    "    'Wednesday': 3,\n",
    "    'Thursday': 4,\n",
    "    'Friday': 5,\n",
    "    'Saturday': 6,\n",
    "    'Sunday': 7\n",
    "}\n",
    "\n",
    "#df.map({dictionary})\n",
    "\n",
    "df['day_ordinal'] = df.day_of_week.map(weekday_map)\n",
    "df.head()"
   ]
  },
  {
   "cell_type": "markdown",
   "id": "9d9baff2",
   "metadata": {},
   "source": [
    "### pd.map() practice"
   ]
  },
  {
   "cell_type": "code",
   "execution_count": 104,
   "id": "c897a4bd",
   "metadata": {},
   "outputs": [
    {
     "data": {
      "text/plain": [
       "0    kitten\n",
       "1     puppy\n",
       "2       NaN\n",
       "3       NaN\n",
       "dtype: object"
      ]
     },
     "execution_count": 104,
     "metadata": {},
     "output_type": "execute_result"
    }
   ],
   "source": [
    "import numpy as np\n",
    "s = pd.Series(['cat', 'dog', np.nan, 'rabbit'])\n",
    "s.map({'cat': 'kitten', 'dog': 'puppy'})"
   ]
  },
  {
   "cell_type": "code",
   "execution_count": 109,
   "id": "99a46c09",
   "metadata": {},
   "outputs": [
    {
     "data": {
      "text/plain": [
       "array([0, 0, 0, 0, 0, 0, 0, 0, 0, 0])"
      ]
     },
     "execution_count": 109,
     "metadata": {},
     "output_type": "execute_result"
    }
   ],
   "source": [
    "np.arange(0, 5, 0.5, dtype=int)\n",
    "#np.arange(-3, 3, 0.5, dtype=int)"
   ]
  },
  {
   "cell_type": "code",
   "execution_count": 115,
   "id": "d7d72e0c",
   "metadata": {},
   "outputs": [],
   "source": [
    "num = np.arange(1, 5, 1)"
   ]
  },
  {
   "cell_type": "code",
   "execution_count": 143,
   "id": "ac1eb115",
   "metadata": {},
   "outputs": [
    {
     "data": {
      "text/html": [
       "<div>\n",
       "<style scoped>\n",
       "    .dataframe tbody tr th:only-of-type {\n",
       "        vertical-align: middle;\n",
       "    }\n",
       "\n",
       "    .dataframe tbody tr th {\n",
       "        vertical-align: top;\n",
       "    }\n",
       "\n",
       "    .dataframe thead th {\n",
       "        text-align: right;\n",
       "    }\n",
       "</style>\n",
       "<table border=\"1\" class=\"dataframe\">\n",
       "  <thead>\n",
       "    <tr style=\"text-align: right;\">\n",
       "      <th></th>\n",
       "      <th>number</th>\n",
       "    </tr>\n",
       "  </thead>\n",
       "  <tbody>\n",
       "    <tr>\n",
       "      <th>0</th>\n",
       "      <td>1</td>\n",
       "    </tr>\n",
       "    <tr>\n",
       "      <th>1</th>\n",
       "      <td>2</td>\n",
       "    </tr>\n",
       "    <tr>\n",
       "      <th>2</th>\n",
       "      <td>3</td>\n",
       "    </tr>\n",
       "    <tr>\n",
       "      <th>3</th>\n",
       "      <td>4</td>\n",
       "    </tr>\n",
       "  </tbody>\n",
       "</table>\n",
       "</div>"
      ],
      "text/plain": [
       "   number\n",
       "0       1\n",
       "1       2\n",
       "2       3\n",
       "3       4"
      ]
     },
     "execution_count": 143,
     "metadata": {},
     "output_type": "execute_result"
    }
   ],
   "source": [
    "data = pd.DataFrame(num)\n",
    "data.columns = ['number']\n",
    "data"
   ]
  },
  {
   "cell_type": "code",
   "execution_count": 144,
   "id": "6aa1bb00",
   "metadata": {},
   "outputs": [
    {
     "data": {
      "text/plain": [
       "0    1\n",
       "1    2\n",
       "2    3\n",
       "3    4\n",
       "Name: number, dtype: int64"
      ]
     },
     "execution_count": 144,
     "metadata": {},
     "output_type": "execute_result"
    }
   ],
   "source": [
    "data.number"
   ]
  },
  {
   "cell_type": "code",
   "execution_count": 145,
   "id": "2623a788",
   "metadata": {},
   "outputs": [],
   "source": [
    "mapping = {0:'egg', 1:'vege', 2:'chicken', 3: 'water', 4:'icecream'}"
   ]
  },
  {
   "cell_type": "code",
   "execution_count": 146,
   "id": "50221e3c",
   "metadata": {},
   "outputs": [
    {
     "data": {
      "text/html": [
       "<div>\n",
       "<style scoped>\n",
       "    .dataframe tbody tr th:only-of-type {\n",
       "        vertical-align: middle;\n",
       "    }\n",
       "\n",
       "    .dataframe tbody tr th {\n",
       "        vertical-align: top;\n",
       "    }\n",
       "\n",
       "    .dataframe thead th {\n",
       "        text-align: right;\n",
       "    }\n",
       "</style>\n",
       "<table border=\"1\" class=\"dataframe\">\n",
       "  <thead>\n",
       "    <tr style=\"text-align: right;\">\n",
       "      <th></th>\n",
       "      <th>number</th>\n",
       "      <th>shopping</th>\n",
       "    </tr>\n",
       "  </thead>\n",
       "  <tbody>\n",
       "    <tr>\n",
       "      <th>0</th>\n",
       "      <td>1</td>\n",
       "      <td>vege</td>\n",
       "    </tr>\n",
       "    <tr>\n",
       "      <th>1</th>\n",
       "      <td>2</td>\n",
       "      <td>chicken</td>\n",
       "    </tr>\n",
       "    <tr>\n",
       "      <th>2</th>\n",
       "      <td>3</td>\n",
       "      <td>water</td>\n",
       "    </tr>\n",
       "    <tr>\n",
       "      <th>3</th>\n",
       "      <td>4</td>\n",
       "      <td>icecream</td>\n",
       "    </tr>\n",
       "  </tbody>\n",
       "</table>\n",
       "</div>"
      ],
      "text/plain": [
       "   number  shopping\n",
       "0       1      vege\n",
       "1       2   chicken\n",
       "2       3     water\n",
       "3       4  icecream"
      ]
     },
     "execution_count": 146,
     "metadata": {},
     "output_type": "execute_result"
    }
   ],
   "source": [
    "data['shopping'] = data.number.map(mapping)\n",
    "data"
   ]
  },
  {
   "cell_type": "markdown",
   "id": "2033e384",
   "metadata": {},
   "source": [
    "## Practice End"
   ]
  },
  {
   "cell_type": "markdown",
   "id": "be5df52a",
   "metadata": {},
   "source": [
    "### Count or frequency encoding\n",
    "Another way to refer to variables that have a multitude of categories, is to call them variables with high cardinality.\n",
    "\n",
    "We observed in the previous lecture, that if a categorical variable contains multiple labels, then by re-encoding them using one hot encoding, we will expand the feature space dramatically.\n",
    "\n",
    "One approach that is heavily used in Kaggle competitions, is to replace each label of the categorical variable by the count, this is the amount of times each label appears in the dataset. Or the frequency, this is the percentage of observations within that category. The 2 are equivalent.\n",
    "\n",
    "There is not any rationale behind this transformation, other than its simplicity.\n",
    "\n",
    "#### Advantages\n",
    "- Simple\n",
    "- Does not expand the feature space\n",
    "#### Disadvantages\n",
    "- If 2 labels appear the same amount of times in the dataset, that is, contain the same number of observations, they will be merged: may loose valuable information\n",
    "- Adds somewhat arbitrary numbers, and therefore weights to the different labels, that may not be related to their predictive power\n",
    "Follow this thread in Kaggle for more information: https://www.kaggle.com/general/16927"
   ]
  },
  {
   "cell_type": "code",
   "execution_count": 197,
   "id": "163663fe",
   "metadata": {},
   "outputs": [
    {
     "data": {
      "text/html": [
       "<div>\n",
       "<style scoped>\n",
       "    .dataframe tbody tr th:only-of-type {\n",
       "        vertical-align: middle;\n",
       "    }\n",
       "\n",
       "    .dataframe tbody tr th {\n",
       "        vertical-align: top;\n",
       "    }\n",
       "\n",
       "    .dataframe thead th {\n",
       "        text-align: right;\n",
       "    }\n",
       "</style>\n",
       "<table border=\"1\" class=\"dataframe\">\n",
       "  <thead>\n",
       "    <tr style=\"text-align: right;\">\n",
       "      <th></th>\n",
       "      <th>X1</th>\n",
       "      <th>X2</th>\n",
       "      <th>X3</th>\n",
       "      <th>X4</th>\n",
       "      <th>X5</th>\n",
       "      <th>X6</th>\n",
       "      <th>y</th>\n",
       "    </tr>\n",
       "  </thead>\n",
       "  <tbody>\n",
       "    <tr>\n",
       "      <th>0</th>\n",
       "      <td>v</td>\n",
       "      <td>at</td>\n",
       "      <td>a</td>\n",
       "      <td>d</td>\n",
       "      <td>u</td>\n",
       "      <td>j</td>\n",
       "      <td>130.81</td>\n",
       "    </tr>\n",
       "    <tr>\n",
       "      <th>1</th>\n",
       "      <td>t</td>\n",
       "      <td>av</td>\n",
       "      <td>e</td>\n",
       "      <td>d</td>\n",
       "      <td>y</td>\n",
       "      <td>l</td>\n",
       "      <td>88.53</td>\n",
       "    </tr>\n",
       "    <tr>\n",
       "      <th>2</th>\n",
       "      <td>w</td>\n",
       "      <td>n</td>\n",
       "      <td>c</td>\n",
       "      <td>d</td>\n",
       "      <td>x</td>\n",
       "      <td>j</td>\n",
       "      <td>76.26</td>\n",
       "    </tr>\n",
       "    <tr>\n",
       "      <th>3</th>\n",
       "      <td>t</td>\n",
       "      <td>n</td>\n",
       "      <td>f</td>\n",
       "      <td>d</td>\n",
       "      <td>x</td>\n",
       "      <td>l</td>\n",
       "      <td>80.62</td>\n",
       "    </tr>\n",
       "    <tr>\n",
       "      <th>4</th>\n",
       "      <td>v</td>\n",
       "      <td>n</td>\n",
       "      <td>f</td>\n",
       "      <td>d</td>\n",
       "      <td>h</td>\n",
       "      <td>d</td>\n",
       "      <td>78.02</td>\n",
       "    </tr>\n",
       "  </tbody>\n",
       "</table>\n",
       "</div>"
      ],
      "text/plain": [
       "  X1  X2 X3 X4 X5 X6       y\n",
       "0  v  at  a  d  u  j  130.81\n",
       "1  t  av  e  d  y  l   88.53\n",
       "2  w   n  c  d  x  j   76.26\n",
       "3  t   n  f  d  x  l   80.62\n",
       "4  v   n  f  d  h  d   78.02"
      ]
     },
     "execution_count": 197,
     "metadata": {},
     "output_type": "execute_result"
    }
   ],
   "source": [
    "import pandas as pd\n",
    "import numpy as np\n",
    "\n",
    "from sklearn.model_selection import train_test_split\n",
    "\n",
    "data = pd.read_csv('../Udemy/mercedesbenz.csv')\n",
    "data = data[['X1', 'X2', 'X3', 'X4', 'X5', 'X6', 'y']]\n",
    "data.head()"
   ]
  },
  {
   "cell_type": "code",
   "execution_count": 198,
   "id": "3e091e41",
   "metadata": {},
   "outputs": [
    {
     "data": {
      "text/plain": [
       "aa    833\n",
       "s     598\n",
       "b     592\n",
       "l     590\n",
       "v     408\n",
       "r     251\n",
       "i     203\n",
       "a     143\n",
       "c     121\n",
       "o      82\n",
       "w      52\n",
       "z      46\n",
       "u      37\n",
       "e      33\n",
       "m      32\n",
       "t      31\n",
       "h      29\n",
       "f      23\n",
       "y      23\n",
       "j      22\n",
       "n      19\n",
       "k      17\n",
       "p       9\n",
       "g       6\n",
       "d       3\n",
       "q       3\n",
       "ab      3\n",
       "Name: X1, dtype: int64"
      ]
     },
     "execution_count": 198,
     "metadata": {},
     "output_type": "execute_result"
    }
   ],
   "source": [
    "data.X1.value_counts().sort_values(ascending=False)"
   ]
  },
  {
   "cell_type": "code",
   "execution_count": 199,
   "id": "024eaf0c",
   "metadata": {},
   "outputs": [
    {
     "name": "stdout",
     "output_type": "stream",
     "text": [
      "X2 : 44 labels\n",
      "X3 : 7 labels\n",
      "X4 : 4 labels\n",
      "X5 : 29 labels\n",
      "X6 : 12 labels\n",
      "y : 2545 labels\n"
     ]
    }
   ],
   "source": [
    "for col in data.columns[1:]:\n",
    "    print(col, ':', len(data[col].unique()), 'labels')"
   ]
  },
  {
   "cell_type": "markdown",
   "id": "73143b16",
   "metadata": {},
   "source": [
    "## Important -- Training Set\n",
    "When doing count transformation of categorical variables, it is important to calculate the count (or frequency = count/total observations) over the training set, and then use those numbers to replace the labels in the test set."
   ]
  },
  {
   "cell_type": "code",
   "execution_count": 200,
   "id": "01150adc",
   "metadata": {},
   "outputs": [],
   "source": [
    "X_train, X_test, y_train, y_test = train_test_split(data[['X1', 'X2', 'X3', 'X4', 'X5', 'X6']],\n",
    "                                                   data.y, test_size=0.3, random_state=0)"
   ]
  },
  {
   "cell_type": "code",
   "execution_count": 201,
   "id": "76857c6e",
   "metadata": {},
   "outputs": [
    {
     "data": {
      "text/plain": [
       "((2946, 6), (1263, 6))"
      ]
     },
     "execution_count": 201,
     "metadata": {},
     "output_type": "execute_result"
    }
   ],
   "source": [
    "X_train.shape, X_test.shape"
   ]
  },
  {
   "cell_type": "code",
   "execution_count": 202,
   "id": "ca235242",
   "metadata": {},
   "outputs": [],
   "source": [
    "freq_map = X_train.X2.value_counts().to_dict()"
   ]
  },
  {
   "cell_type": "markdown",
   "id": "6aec2bb8",
   "metadata": {},
   "source": [
    "### to_dict()\n",
    "Convert the DataFrame to a dictionary."
   ]
  },
  {
   "cell_type": "code",
   "execution_count": 203,
   "id": "dbd7efe2",
   "metadata": {},
   "outputs": [
    {
     "data": {
      "text/html": [
       "<div>\n",
       "<style scoped>\n",
       "    .dataframe tbody tr th:only-of-type {\n",
       "        vertical-align: middle;\n",
       "    }\n",
       "\n",
       "    .dataframe tbody tr th {\n",
       "        vertical-align: top;\n",
       "    }\n",
       "\n",
       "    .dataframe thead th {\n",
       "        text-align: right;\n",
       "    }\n",
       "</style>\n",
       "<table border=\"1\" class=\"dataframe\">\n",
       "  <thead>\n",
       "    <tr style=\"text-align: right;\">\n",
       "      <th></th>\n",
       "      <th>col1</th>\n",
       "      <th>col2</th>\n",
       "    </tr>\n",
       "  </thead>\n",
       "  <tbody>\n",
       "    <tr>\n",
       "      <th>row1</th>\n",
       "      <td>1</td>\n",
       "      <td>0.50</td>\n",
       "    </tr>\n",
       "    <tr>\n",
       "      <th>row2</th>\n",
       "      <td>2</td>\n",
       "      <td>0.75</td>\n",
       "    </tr>\n",
       "  </tbody>\n",
       "</table>\n",
       "</div>"
      ],
      "text/plain": [
       "      col1  col2\n",
       "row1     1  0.50\n",
       "row2     2  0.75"
      ]
     },
     "execution_count": 203,
     "metadata": {},
     "output_type": "execute_result"
    }
   ],
   "source": [
    "df = pd.DataFrame({'col1': [1, 2],\n",
    "                   'col2': [0.5, 0.75]},\n",
    "                  index=['row1', 'row2'])\n",
    "df"
   ]
  },
  {
   "cell_type": "code",
   "execution_count": 204,
   "id": "469ca8db",
   "metadata": {},
   "outputs": [
    {
     "data": {
      "text/plain": [
       "{'col1': {'row1': 1, 'row2': 2}, 'col2': {'row1': 0.5, 'row2': 0.75}}"
      ]
     },
     "execution_count": 204,
     "metadata": {},
     "output_type": "execute_result"
    }
   ],
   "source": [
    "df.to_dict()"
   ]
  },
  {
   "cell_type": "markdown",
   "id": "b2e92f48",
   "metadata": {},
   "source": [
    "----------Practice end--------"
   ]
  },
  {
   "cell_type": "code",
   "execution_count": 205,
   "id": "cb4bbba1",
   "metadata": {},
   "outputs": [
    {
     "data": {
      "text/html": [
       "<div>\n",
       "<style scoped>\n",
       "    .dataframe tbody tr th:only-of-type {\n",
       "        vertical-align: middle;\n",
       "    }\n",
       "\n",
       "    .dataframe tbody tr th {\n",
       "        vertical-align: top;\n",
       "    }\n",
       "\n",
       "    .dataframe thead th {\n",
       "        text-align: right;\n",
       "    }\n",
       "</style>\n",
       "<table border=\"1\" class=\"dataframe\">\n",
       "  <thead>\n",
       "    <tr style=\"text-align: right;\">\n",
       "      <th></th>\n",
       "      <th>X1</th>\n",
       "      <th>X2</th>\n",
       "      <th>X3</th>\n",
       "      <th>X4</th>\n",
       "      <th>X5</th>\n",
       "      <th>X6</th>\n",
       "    </tr>\n",
       "  </thead>\n",
       "  <tbody>\n",
       "    <tr>\n",
       "      <th>3059</th>\n",
       "      <td>aa</td>\n",
       "      <td>ai</td>\n",
       "      <td>c</td>\n",
       "      <td>d</td>\n",
       "      <td>q</td>\n",
       "      <td>g</td>\n",
       "    </tr>\n",
       "    <tr>\n",
       "      <th>3014</th>\n",
       "      <td>b</td>\n",
       "      <td>m</td>\n",
       "      <td>c</td>\n",
       "      <td>d</td>\n",
       "      <td>q</td>\n",
       "      <td>i</td>\n",
       "    </tr>\n",
       "    <tr>\n",
       "      <th>3368</th>\n",
       "      <td>o</td>\n",
       "      <td>f</td>\n",
       "      <td>f</td>\n",
       "      <td>d</td>\n",
       "      <td>s</td>\n",
       "      <td>l</td>\n",
       "    </tr>\n",
       "    <tr>\n",
       "      <th>2772</th>\n",
       "      <td>aa</td>\n",
       "      <td>as</td>\n",
       "      <td>d</td>\n",
       "      <td>d</td>\n",
       "      <td>p</td>\n",
       "      <td>j</td>\n",
       "    </tr>\n",
       "    <tr>\n",
       "      <th>3383</th>\n",
       "      <td>v</td>\n",
       "      <td>e</td>\n",
       "      <td>c</td>\n",
       "      <td>d</td>\n",
       "      <td>s</td>\n",
       "      <td>g</td>\n",
       "    </tr>\n",
       "  </tbody>\n",
       "</table>\n",
       "</div>"
      ],
      "text/plain": [
       "      X1  X2 X3 X4 X5 X6\n",
       "3059  aa  ai  c  d  q  g\n",
       "3014   b   m  c  d  q  i\n",
       "3368   o   f  f  d  s  l\n",
       "2772  aa  as  d  d  p  j\n",
       "3383   v   e  c  d  s  g"
      ]
     },
     "execution_count": 205,
     "metadata": {},
     "output_type": "execute_result"
    }
   ],
   "source": [
    "X_train.head()"
   ]
  },
  {
   "cell_type": "code",
   "execution_count": 207,
   "id": "32bbb186",
   "metadata": {},
   "outputs": [],
   "source": [
    "#replace column in training set X2 to frequency map\n",
    "X_train.X2= X_train.X2.map(freq_map)"
   ]
  },
  {
   "cell_type": "code",
   "execution_count": 208,
   "id": "f3e7b6a6",
   "metadata": {},
   "outputs": [
    {
     "data": {
      "text/html": [
       "<div>\n",
       "<style scoped>\n",
       "    .dataframe tbody tr th:only-of-type {\n",
       "        vertical-align: middle;\n",
       "    }\n",
       "\n",
       "    .dataframe tbody tr th {\n",
       "        vertical-align: top;\n",
       "    }\n",
       "\n",
       "    .dataframe thead th {\n",
       "        text-align: right;\n",
       "    }\n",
       "</style>\n",
       "<table border=\"1\" class=\"dataframe\">\n",
       "  <thead>\n",
       "    <tr style=\"text-align: right;\">\n",
       "      <th></th>\n",
       "      <th>X1</th>\n",
       "      <th>X2</th>\n",
       "      <th>X3</th>\n",
       "      <th>X4</th>\n",
       "      <th>X5</th>\n",
       "      <th>X6</th>\n",
       "    </tr>\n",
       "  </thead>\n",
       "  <tbody>\n",
       "    <tr>\n",
       "      <th>3059</th>\n",
       "      <td>aa</td>\n",
       "      <td>289</td>\n",
       "      <td>c</td>\n",
       "      <td>d</td>\n",
       "      <td>q</td>\n",
       "      <td>g</td>\n",
       "    </tr>\n",
       "    <tr>\n",
       "      <th>3014</th>\n",
       "      <td>b</td>\n",
       "      <td>284</td>\n",
       "      <td>c</td>\n",
       "      <td>d</td>\n",
       "      <td>q</td>\n",
       "      <td>i</td>\n",
       "    </tr>\n",
       "    <tr>\n",
       "      <th>3368</th>\n",
       "      <td>o</td>\n",
       "      <td>59</td>\n",
       "      <td>f</td>\n",
       "      <td>d</td>\n",
       "      <td>s</td>\n",
       "      <td>l</td>\n",
       "    </tr>\n",
       "    <tr>\n",
       "      <th>2772</th>\n",
       "      <td>aa</td>\n",
       "      <td>1155</td>\n",
       "      <td>d</td>\n",
       "      <td>d</td>\n",
       "      <td>p</td>\n",
       "      <td>j</td>\n",
       "    </tr>\n",
       "    <tr>\n",
       "      <th>3383</th>\n",
       "      <td>v</td>\n",
       "      <td>61</td>\n",
       "      <td>c</td>\n",
       "      <td>d</td>\n",
       "      <td>s</td>\n",
       "      <td>g</td>\n",
       "    </tr>\n",
       "  </tbody>\n",
       "</table>\n",
       "</div>"
      ],
      "text/plain": [
       "      X1    X2 X3 X4 X5 X6\n",
       "3059  aa   289  c  d  q  g\n",
       "3014   b   284  c  d  q  i\n",
       "3368   o    59  f  d  s  l\n",
       "2772  aa  1155  d  d  p  j\n",
       "3383   v    61  c  d  s  g"
      ]
     },
     "execution_count": 208,
     "metadata": {},
     "output_type": "execute_result"
    }
   ],
   "source": [
    "X_train.head()"
   ]
  },
  {
   "cell_type": "code",
   "execution_count": 209,
   "id": "f085efbc",
   "metadata": {},
   "outputs": [
    {
     "name": "stdout",
     "output_type": "stream",
     "text": [
      "3059     289\n",
      "3014     284\n",
      "3368      59\n",
      "2772    1155\n",
      "3383      61\n",
      "        ... \n",
      "1033      97\n",
      "3264    1155\n",
      "1653    1155\n",
      "2607    1155\n",
      "2732      16\n",
      "Name: X2, Length: 2946, dtype: int64\n"
     ]
    }
   ],
   "source": [
    "print(X_train.X2)"
   ]
  },
  {
   "cell_type": "code",
   "execution_count": 210,
   "id": "7cd4a076",
   "metadata": {},
   "outputs": [
    {
     "data": {
      "text/html": [
       "<div>\n",
       "<style scoped>\n",
       "    .dataframe tbody tr th:only-of-type {\n",
       "        vertical-align: middle;\n",
       "    }\n",
       "\n",
       "    .dataframe tbody tr th {\n",
       "        vertical-align: top;\n",
       "    }\n",
       "\n",
       "    .dataframe thead th {\n",
       "        text-align: right;\n",
       "    }\n",
       "</style>\n",
       "<table border=\"1\" class=\"dataframe\">\n",
       "  <thead>\n",
       "    <tr style=\"text-align: right;\">\n",
       "      <th></th>\n",
       "      <th>X2</th>\n",
       "    </tr>\n",
       "  </thead>\n",
       "  <tbody>\n",
       "    <tr>\n",
       "      <th>3059</th>\n",
       "      <td>289</td>\n",
       "    </tr>\n",
       "    <tr>\n",
       "      <th>3014</th>\n",
       "      <td>284</td>\n",
       "    </tr>\n",
       "    <tr>\n",
       "      <th>3368</th>\n",
       "      <td>59</td>\n",
       "    </tr>\n",
       "    <tr>\n",
       "      <th>2772</th>\n",
       "      <td>1155</td>\n",
       "    </tr>\n",
       "    <tr>\n",
       "      <th>3383</th>\n",
       "      <td>61</td>\n",
       "    </tr>\n",
       "    <tr>\n",
       "      <th>...</th>\n",
       "      <td>...</td>\n",
       "    </tr>\n",
       "    <tr>\n",
       "      <th>1033</th>\n",
       "      <td>97</td>\n",
       "    </tr>\n",
       "    <tr>\n",
       "      <th>3264</th>\n",
       "      <td>1155</td>\n",
       "    </tr>\n",
       "    <tr>\n",
       "      <th>1653</th>\n",
       "      <td>1155</td>\n",
       "    </tr>\n",
       "    <tr>\n",
       "      <th>2607</th>\n",
       "      <td>1155</td>\n",
       "    </tr>\n",
       "    <tr>\n",
       "      <th>2732</th>\n",
       "      <td>16</td>\n",
       "    </tr>\n",
       "  </tbody>\n",
       "</table>\n",
       "<p>2946 rows × 1 columns</p>\n",
       "</div>"
      ],
      "text/plain": [
       "        X2\n",
       "3059   289\n",
       "3014   284\n",
       "3368    59\n",
       "2772  1155\n",
       "3383    61\n",
       "...    ...\n",
       "1033    97\n",
       "3264  1155\n",
       "1653  1155\n",
       "2607  1155\n",
       "2732    16\n",
       "\n",
       "[2946 rows x 1 columns]"
      ]
     },
     "execution_count": 210,
     "metadata": {},
     "output_type": "execute_result"
    }
   ],
   "source": [
    "X_train[['X2']]"
   ]
  },
  {
   "cell_type": "code",
   "execution_count": 211,
   "id": "997c22c1",
   "metadata": {},
   "outputs": [
    {
     "data": {
      "text/html": [
       "<div>\n",
       "<style scoped>\n",
       "    .dataframe tbody tr th:only-of-type {\n",
       "        vertical-align: middle;\n",
       "    }\n",
       "\n",
       "    .dataframe tbody tr th {\n",
       "        vertical-align: top;\n",
       "    }\n",
       "\n",
       "    .dataframe thead th {\n",
       "        text-align: right;\n",
       "    }\n",
       "</style>\n",
       "<table border=\"1\" class=\"dataframe\">\n",
       "  <thead>\n",
       "    <tr style=\"text-align: right;\">\n",
       "      <th></th>\n",
       "      <th>X1</th>\n",
       "      <th>X2</th>\n",
       "      <th>X3</th>\n",
       "      <th>X4</th>\n",
       "      <th>X5</th>\n",
       "      <th>X6</th>\n",
       "    </tr>\n",
       "  </thead>\n",
       "  <tbody>\n",
       "    <tr>\n",
       "      <th>3431</th>\n",
       "      <td>l</td>\n",
       "      <td>1155.0</td>\n",
       "      <td>f</td>\n",
       "      <td>d</td>\n",
       "      <td>r</td>\n",
       "      <td>d</td>\n",
       "    </tr>\n",
       "    <tr>\n",
       "      <th>2131</th>\n",
       "      <td>aa</td>\n",
       "      <td>59.0</td>\n",
       "      <td>c</td>\n",
       "      <td>d</td>\n",
       "      <td>l</td>\n",
       "      <td>l</td>\n",
       "    </tr>\n",
       "    <tr>\n",
       "      <th>2680</th>\n",
       "      <td>e</td>\n",
       "      <td>1155.0</td>\n",
       "      <td>c</td>\n",
       "      <td>d</td>\n",
       "      <td>m</td>\n",
       "      <td>j</td>\n",
       "    </tr>\n",
       "    <tr>\n",
       "      <th>195</th>\n",
       "      <td>r</td>\n",
       "      <td>101.0</td>\n",
       "      <td>f</td>\n",
       "      <td>d</td>\n",
       "      <td>i</td>\n",
       "      <td>a</td>\n",
       "    </tr>\n",
       "    <tr>\n",
       "      <th>3032</th>\n",
       "      <td>aa</td>\n",
       "      <td>284.0</td>\n",
       "      <td>c</td>\n",
       "      <td>d</td>\n",
       "      <td>q</td>\n",
       "      <td>j</td>\n",
       "    </tr>\n",
       "  </tbody>\n",
       "</table>\n",
       "</div>"
      ],
      "text/plain": [
       "      X1      X2 X3 X4 X5 X6\n",
       "3431   l  1155.0  f  d  r  d\n",
       "2131  aa    59.0  c  d  l  l\n",
       "2680   e  1155.0  c  d  m  j\n",
       "195    r   101.0  f  d  i  a\n",
       "3032  aa   284.0  c  d  q  j"
      ]
     },
     "execution_count": 211,
     "metadata": {},
     "output_type": "execute_result"
    }
   ],
   "source": [
    "# replace in test set in the same way\n",
    "X_test.X2= X_test.X2.map(freq_map)\n",
    "X_test.head()"
   ]
  },
  {
   "cell_type": "markdown",
   "id": "a1cc6e40",
   "metadata": {},
   "source": [
    "### Note\n",
    "I want you to keep in mind something important:\n",
    "\n",
    "If a category is present only in the test set, that was not present in the train set, this method will generate missing data in the test set. \n",
    "\n",
    "This is why it is extremely important to handle rare categories, as we say in section 6 of this course.\n",
    "\n",
    "Then we can combine rare label replacement plus categorical encoding with counts like this: \n",
    "\n",
    "- we may choose to replace the 10 most frequent labels by their count\n",
    "- and then group all the other labels under one label (for example \"Rare\")\n",
    "- and replace \"Rare\" by its count, to account for what I just mentioned.\n",
    "\n",
    "In coming sections I will explain more methods of categorical encoding. I want you to keep in mind that There is no rule of thumb to indicate which method you should use to encode categorical variables. It is mostly up to what makes sense for the data, and it also depends on what you are trying to achieve. In general, for data competitions, we value more model predictive power, whereas in business scenarios we want to capture and understand the information, and generally, we want to transform variables in a way that it makes 'Business sense'. Some of your common sense and a lot of conversation with the people that understand the data well will be required to encode categorical labels."
   ]
  },
  {
   "cell_type": "code",
   "execution_count": null,
   "id": "8a1f7c71",
   "metadata": {},
   "outputs": [],
   "source": []
  },
  {
   "cell_type": "code",
   "execution_count": null,
   "id": "81f8af1b",
   "metadata": {},
   "outputs": [],
   "source": []
  },
  {
   "cell_type": "code",
   "execution_count": null,
   "id": "ca8a7e6a",
   "metadata": {},
   "outputs": [],
   "source": []
  },
  {
   "cell_type": "code",
   "execution_count": null,
   "id": "4fb99594",
   "metadata": {},
   "outputs": [],
   "source": []
  },
  {
   "cell_type": "code",
   "execution_count": null,
   "id": "20306b53",
   "metadata": {},
   "outputs": [],
   "source": []
  },
  {
   "cell_type": "code",
   "execution_count": null,
   "id": "2caa6e56",
   "metadata": {},
   "outputs": [],
   "source": []
  },
  {
   "cell_type": "code",
   "execution_count": null,
   "id": "55394591",
   "metadata": {},
   "outputs": [],
   "source": []
  },
  {
   "cell_type": "code",
   "execution_count": null,
   "id": "8c33f7aa",
   "metadata": {},
   "outputs": [],
   "source": []
  },
  {
   "cell_type": "code",
   "execution_count": null,
   "id": "cafa5fe8",
   "metadata": {},
   "outputs": [],
   "source": []
  },
  {
   "cell_type": "code",
   "execution_count": null,
   "id": "84f6afec",
   "metadata": {},
   "outputs": [],
   "source": []
  },
  {
   "cell_type": "markdown",
   "id": "98b79650",
   "metadata": {},
   "source": [
    "## Practice date, time, datetime\n",
    "- date class\n",
    "- time class\n",
    "- datetime class"
   ]
  },
  {
   "cell_type": "code",
   "execution_count": null,
   "id": "628b816e",
   "metadata": {},
   "outputs": [],
   "source": [
    "# date\n",
    "date1 = dt.date(2021, 1, 5)\n",
    "print(date1)"
   ]
  },
  {
   "cell_type": "code",
   "execution_count": null,
   "id": "cbedb31e",
   "metadata": {},
   "outputs": [],
   "source": [
    "date1 = dt.date.today()\n",
    "print(date1)"
   ]
  },
  {
   "cell_type": "code",
   "execution_count": null,
   "id": "c5b2d25f",
   "metadata": {},
   "outputs": [],
   "source": [
    "print('Year:', date1.year)\n",
    "print('Month:', date1.month)\n",
    "print('Day:', date1.day)"
   ]
  },
  {
   "cell_type": "code",
   "execution_count": null,
   "id": "c46f1777",
   "metadata": {},
   "outputs": [],
   "source": [
    "# time\n",
    "\n",
    "time1 = dt.time(10, 45, 30, 45667)\n",
    "print(time1)"
   ]
  },
  {
   "cell_type": "code",
   "execution_count": null,
   "id": "15b4c76e",
   "metadata": {},
   "outputs": [],
   "source": [
    "print('Hour:', time1.hour)\n",
    "print('Minute:', time1.minute)\n",
    "print('Second:', time1.second)\n",
    "print('Microsecond:', time1.microsecond)"
   ]
  },
  {
   "cell_type": "code",
   "execution_count": null,
   "id": "32624780",
   "metadata": {},
   "outputs": [],
   "source": [
    "# datetime\n",
    "datetime_obj = dt.datetime(2021, 11, 28, 23, 55, 59)\n",
    "print(datetime_obj)"
   ]
  },
  {
   "cell_type": "code",
   "execution_count": null,
   "id": "cf429a3c",
   "metadata": {},
   "outputs": [],
   "source": [
    "print(datetime_obj.date())"
   ]
  },
  {
   "cell_type": "code",
   "execution_count": null,
   "id": "89325b01",
   "metadata": {},
   "outputs": [],
   "source": [
    "print(datetime_obj.time())"
   ]
  },
  {
   "cell_type": "code",
   "execution_count": null,
   "id": "f2dc69f5",
   "metadata": {},
   "outputs": [],
   "source": [
    "current_datetime = dt.datetime.now()\n",
    "print(current_datetime)"
   ]
  },
  {
   "cell_type": "markdown",
   "id": "6852138c",
   "metadata": {},
   "source": [
    "Python datetime module (text-based tutorial): https://www.programiz.com/python-prog... \n",
    "Python strftime() method (text-based tutorial): https://www.programiz.com/python-prog...  \n",
    "Python strptime() method (text-based tutorial): https://www.programiz.com/python-prog... \n",
    "Python time module (text-based tutorial): https://www.programiz.com/python-prog... "
   ]
  },
  {
   "cell_type": "code",
   "execution_count": null,
   "id": "ad204fd8",
   "metadata": {},
   "outputs": [],
   "source": [
    "current_time = dt.datetime.now()"
   ]
  },
  {
   "cell_type": "code",
   "execution_count": null,
   "id": "b822e590",
   "metadata": {},
   "outputs": [],
   "source": [
    "next_new_year = dt.datetime(2024, 1, 1)"
   ]
  },
  {
   "cell_type": "code",
   "execution_count": null,
   "id": "0b1e9d02",
   "metadata": {},
   "outputs": [],
   "source": [
    "time_remaining = next_new_year - current_time\n",
    "print(time_remaining)"
   ]
  },
  {
   "cell_type": "code",
   "execution_count": null,
   "id": "853a25a1",
   "metadata": {},
   "outputs": [],
   "source": [
    "# strftime()\n",
    "\n",
    "import datetime as dt\n",
    "current_datetime = dt.datetime.now()\n",
    "print(current_datetime)"
   ]
  },
  {
   "cell_type": "code",
   "execution_count": null,
   "id": "1b58a551",
   "metadata": {},
   "outputs": [],
   "source": [
    "string_date = current_datetime.strftime('%A, %B,%d, %Y')"
   ]
  },
  {
   "cell_type": "code",
   "execution_count": null,
   "id": "5b686902",
   "metadata": {},
   "outputs": [],
   "source": [
    "print(string_date)"
   ]
  },
  {
   "cell_type": "markdown",
   "id": "c1ed9b93",
   "metadata": {},
   "source": [
    "- A Day\n",
    "- B Month\n",
    "- d date\n",
    "- Y year\n",
    "\n",
    "- %a Sun, Mon\n",
    "- %A Sunday\n",
    "- %w Weekday as a decimal number 0, 1...\n",
    "- %d Day of the month 01, 04\n",
    "- %-d Day of the month as a decimal number 1, 2, 3,\n",
    "- %b Jan, Feb\n",
    "- %B Full month name\n",
    "- %I Hour(12-hour clock) as a zero-padded decimal number 01, 02\n",
    "- %p AM PM"
   ]
  },
  {
   "cell_type": "code",
   "execution_count": null,
   "id": "f86dca51",
   "metadata": {},
   "outputs": [],
   "source": [
    "current_datetime.strftime('%b %-d, %I %p')"
   ]
  },
  {
   "cell_type": "code",
   "execution_count": null,
   "id": "e17b09b9",
   "metadata": {},
   "outputs": [],
   "source": [
    "#strptime String->datetime\n",
    "\n",
    "# %d day\n",
    "# %B Month full name\n",
    "# %Y 4 digit year\n",
    "\n",
    "date_string = '21 June, 2021'\n",
    "date_object = dt.datetime.strptime(date_string, '%d %B, %Y')"
   ]
  },
  {
   "cell_type": "code",
   "execution_count": null,
   "id": "5fb848bb",
   "metadata": {},
   "outputs": [],
   "source": [
    "print('Date object:', date_object)"
   ]
  },
  {
   "cell_type": "code",
   "execution_count": null,
   "id": "e1c21e56",
   "metadata": {},
   "outputs": [],
   "source": [
    "import pytz"
   ]
  },
  {
   "cell_type": "code",
   "execution_count": null,
   "id": "663069a7",
   "metadata": {},
   "outputs": [],
   "source": [
    "dt_utcnow = datetime.datetime(2016, 7, 27, 12, 30, 45, tzinfo=pytz.UTC)"
   ]
  },
  {
   "cell_type": "code",
   "execution_count": null,
   "id": "c29d9e8e",
   "metadata": {},
   "outputs": [],
   "source": [
    "print(dt_utcnow)"
   ]
  },
  {
   "cell_type": "code",
   "execution_count": null,
   "id": "40f2e1b9",
   "metadata": {},
   "outputs": [],
   "source": [
    "\n",
    "'''dt_utcnow = datetime.datetime.utcnow().replace(tzinfo=pytz.UTC)\n",
    "print(dt_utcnow)\n",
    "'''"
   ]
  },
  {
   "cell_type": "code",
   "execution_count": null,
   "id": "40e8201f",
   "metadata": {},
   "outputs": [],
   "source": [
    "dt_mtn = dt_utcnow.astimezone(pytz.timezone('US/Mountain'))\n",
    "print(dt_mtn)"
   ]
  },
  {
   "cell_type": "code",
   "execution_count": null,
   "id": "a08f89e5",
   "metadata": {},
   "outputs": [],
   "source": [
    "for tz in pytz.all_timezones:\n",
    "    print(tz)\n",
    "    "
   ]
  },
  {
   "cell_type": "code",
   "execution_count": null,
   "id": "1f70c3eb",
   "metadata": {},
   "outputs": [],
   "source": [
    "dt_mtn2 = datetime.datetime.now()\n",
    "print(dt_mtn2)"
   ]
  },
  {
   "cell_type": "code",
   "execution_count": null,
   "id": "3b3cac65",
   "metadata": {},
   "outputs": [],
   "source": [
    "dt_east = dt_mtn2.astimezone(pytz.timezone('Australia/Hobart'))\n",
    "print(dt_east)"
   ]
  },
  {
   "cell_type": "code",
   "execution_count": null,
   "id": "f56a08b1",
   "metadata": {},
   "outputs": [],
   "source": [
    "mtn_tz = pytz.timezone('US/Mountain')\n",
    "dt_mtn2 = mtn_tz.localize(dt_mtn2)"
   ]
  },
  {
   "cell_type": "code",
   "execution_count": null,
   "id": "afddd261",
   "metadata": {},
   "outputs": [],
   "source": [
    "dt_aus = dt_mtn2.astimezone(pytz.timezone('Australia/Hobart'))\n",
    "dt_aus"
   ]
  },
  {
   "cell_type": "code",
   "execution_count": null,
   "id": "5a1e6c3a",
   "metadata": {},
   "outputs": [],
   "source": [
    "print(dt_mtn.strftime('%B %d, %Y'))"
   ]
  },
  {
   "cell_type": "markdown",
   "id": "f95ea7b2",
   "metadata": {},
   "source": [
    "### Handling Multiple Timezones in Python\n",
    "https://www.youtube.com/watch?v=lUe_-WnrPUE"
   ]
  },
  {
   "cell_type": "code",
   "execution_count": null,
   "id": "4ee39ed5",
   "metadata": {},
   "outputs": [],
   "source": [
    "\n",
    "import datetime as dt\n",
    "dt1 = dt.datetime.now()\n",
    "print(dt1)"
   ]
  },
  {
   "cell_type": "code",
   "execution_count": null,
   "id": "73bf91b9",
   "metadata": {},
   "outputs": [],
   "source": [
    "dt2 = dt.datetime.now(pytz.utc)\n",
    "print(dt2)"
   ]
  },
  {
   "cell_type": "code",
   "execution_count": null,
   "id": "3a6a2017",
   "metadata": {},
   "outputs": [],
   "source": [
    "dt3 = dt.datetime.now(pytz.timezone('Europe/Vienna'))\n",
    "print(dt3)"
   ]
  },
  {
   "cell_type": "code",
   "execution_count": null,
   "id": "33a5001b",
   "metadata": {},
   "outputs": [],
   "source": [
    "# local US time\n",
    "datetime_string = '2022-01-01 12:21:33'\n",
    "\n",
    "current_timezone = pytz.timezone('US/Eastern')\n",
    "\n",
    "target_timezone = pytz.timezone('Europe/Vienna')"
   ]
  },
  {
   "cell_type": "code",
   "execution_count": null,
   "id": "39d1de1e",
   "metadata": {},
   "outputs": [],
   "source": [
    "datetime_newyork = dt.datetime.strptime(datetime_string, '%Y-%m-%d %H:%M:%S')\n",
    "print(datetime_newyork)"
   ]
  },
  {
   "cell_type": "code",
   "execution_count": null,
   "id": "3de535b7",
   "metadata": {},
   "outputs": [],
   "source": [
    "## to be coontinued"
   ]
  },
  {
   "cell_type": "code",
   "execution_count": null,
   "id": "11f75acb",
   "metadata": {},
   "outputs": [],
   "source": []
  },
  {
   "cell_type": "code",
   "execution_count": null,
   "id": "c1964723",
   "metadata": {},
   "outputs": [],
   "source": []
  },
  {
   "cell_type": "code",
   "execution_count": null,
   "id": "ee3f4003",
   "metadata": {},
   "outputs": [],
   "source": []
  },
  {
   "cell_type": "code",
   "execution_count": null,
   "id": "277d4cf2",
   "metadata": {},
   "outputs": [],
   "source": []
  }
 ],
 "metadata": {
  "kernelspec": {
   "display_name": "Python 3",
   "language": "python",
   "name": "python3"
  },
  "language_info": {
   "codemirror_mode": {
    "name": "ipython",
    "version": 3
   },
   "file_extension": ".py",
   "mimetype": "text/x-python",
   "name": "python",
   "nbconvert_exporter": "python",
   "pygments_lexer": "ipython3",
   "version": "3.8.2"
  }
 },
 "nbformat": 4,
 "nbformat_minor": 5
}
